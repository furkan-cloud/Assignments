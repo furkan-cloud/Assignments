{
 "cells": [
  {
   "cell_type": "code",
   "execution_count": 21,
   "metadata": {},
   "outputs": [
    {
     "name": "stdout",
     "output_type": "stream",
     "text": [
      "Please enter a positive integer number: 9\n",
      "9 is an Armstrong number\n",
      "Please enter a positive integer number: 121\n",
      "121 is not an Armstrong number\n"
     ]
    }
   ],
   "source": [
    "# Task:\n",
    "\n",
    "# Find out if a given number is an \"Armstrong Number\".\n",
    "\n",
    "# An n-digit number that is the sum of the nth powers of its digits is called an n-Armstrong number. Examples :\n",
    "# 371 = 33 + 73 + 13;\n",
    "# 9474 = 94 + 44 + 74 + 44;\n",
    "# 93084 = 95 + 35 + 05 + 85 + 45.\n",
    "\n",
    "# Write a Python program that;\n",
    "# takes a positive integer number from the user,\n",
    "# checks the entered number if it is Armstrong,\n",
    "# consider the negative, float and any entries other than numeric values then display a warning message to the user.\n",
    "\n",
    "# Solution - 1\n",
    "\n",
    "num = input(\"Please enter a positive integer number: \")\n",
    "total = 0\n",
    "k = 0\n",
    "number = list(num)\n",
    "\n",
    "if not num.isdigit():\n",
    "    if num.isalpha():\n",
    "        print(\"Do not use any entries other than numeric values\")\n",
    "    elif num.startswith(\"-\"):\n",
    "        print(\"Please enter a positive number\")\n",
    "    elif \",\" or \".\" in number:\n",
    "        print(\"Please enter an integer number\")\n",
    "    else:\n",
    "        print(\"Please enter an integer number\")\n",
    "if num.isdigit() and int(num) > 0:\n",
    "    j = len(number)\n",
    "    for i in number:\n",
    "        total += int(number[k])**j\n",
    "        k += 1\n",
    "    if total == int(num):\n",
    "        print(num, \"is an Armstrong number\")\n",
    "    else:\n",
    "        print(num, \"is not an Armstrong number\")\n",
    "        \n",
    "# Solution - 2\n",
    "\n",
    "num = input(\"Please enter a positive integer number: \")\n",
    "total = 0\n",
    "k = 0\n",
    "number = list(num)\n",
    "\n",
    "if not num.isdigit():\n",
    "    print(\"It is an invalid entry. Don't use non-numeric, float, or negative values!\")\n",
    "if num.isdigit() and int(num) > 0:\n",
    "    j = len(number)\n",
    "    for i in number:\n",
    "        total += int(number[k])**j\n",
    "        k += 1\n",
    "    if total == int(num):\n",
    "        print(num, \"is an Armstrong number\")\n",
    "    else:\n",
    "        print(num, \"is not an Armstrong number\")"
   ]
  },
  {
   "cell_type": "code",
   "execution_count": null,
   "metadata": {},
   "outputs": [],
   "source": []
  }
 ],
 "metadata": {
  "kernelspec": {
   "display_name": "Python 3",
   "language": "python",
   "name": "python3"
  },
  "language_info": {
   "codemirror_mode": {
    "name": "ipython",
    "version": 3
   },
   "file_extension": ".py",
   "mimetype": "text/x-python",
   "name": "python",
   "nbconvert_exporter": "python",
   "pygments_lexer": "ipython3",
   "version": "3.7.6"
  }
 },
 "nbformat": 4,
 "nbformat_minor": 4
}
