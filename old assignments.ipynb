{
 "cells": [
  {
   "cell_type": "code",
   "execution_count": 1,
   "metadata": {},
   "outputs": [
    {
     "name": "stdout",
     "output_type": "stream",
     "text": [
      "7.günün sonundaki toplam param :  1605.7814764784307\n"
     ]
    }
   ],
   "source": [
    "ana_para = 1000\n",
    "gunluk_faiz_oranı = 0.07\n",
    "faizli_para = ana_para * (1 + gunluk_faiz_oranı) ** 7  # 7.günün sonundaki toplam param\n",
    "print(\"7.günün sonundaki toplam param : \", faizli_para)"
   ]
  },
  {
   "cell_type": "code",
   "execution_count": 2,
   "metadata": {},
   "outputs": [
    {
     "name": "stdout",
     "output_type": "stream",
     "text": [
      "7.günün sonundaki toplam param :  1605.7814764784307\n"
     ]
    }
   ],
   "source": [
    "ana_para = 1000\n",
    "\n",
    "gunluk_kar_oranı = 0.07\n",
    "\n",
    "toplam_para = ana_para * (1 + gunluk_kar_oranı) ** 7  # 7.günün sonundaki toplam param\n",
    "\n",
    "print(\"7.günün sonundaki toplam param : \", toplam_para)"
   ]
  },
  {
   "cell_type": "code",
   "execution_count": 11,
   "metadata": {},
   "outputs": [
    {
     "name": "stdout",
     "output_type": "stream",
     "text": [
      "Are you a cigarette addict older than 75 years old?\n",
      "Do you have a severe chronic disease?\n",
      "Is your immune system too weak?\n",
      "risk : True\n"
     ]
    }
   ],
   "source": [
    "print(\"Are you a cigarette addict older than 75 years old?\")\n",
    "age = True or False\n",
    "print(\"Do you have a severe chronic disease?\")\n",
    "chronic = True or False\n",
    "print(\"Is your immune system too weak?\")\n",
    "immune = True or False\n",
    "print (\"risk :\", age or chronic or immune)\n",
    "\n"
   ]
  },
  {
   "cell_type": "code",
   "execution_count": 17,
   "metadata": {},
   "outputs": [
    {
     "name": "stdout",
     "output_type": "stream",
     "text": [
      "Please enter the Celsius temperature : 80.0\n",
      "80.0 celcius degree = 176.0 fahrenheit degree\n"
     ]
    }
   ],
   "source": [
    "celsius_degree = float(input(\"Please enter the Celsius temperature : \"))\n",
    "fahrenheit_degree = celsius_degree * 1.8 + 32\n",
    "print(f\"{celsius_degree} celcius degree = {fahrenheit_degree} fahrenheit degree\")\n"
   ]
  },
  {
   "cell_type": "code",
   "execution_count": 22,
   "metadata": {},
   "outputs": [
    {
     "name": "stdout",
     "output_type": "stream",
     "text": [
      "Please enter a distance as a km : 7.5\n",
      "7.5 kilometers = 4.66028394 miles\n"
     ]
    }
   ],
   "source": [
    "km = float(input(\"Please enter a distance as a km : \"))\n",
    "mile = km * 0.621371192\n",
    "print(f\"{km} kilometers = {mile} miles\")"
   ]
  },
  {
   "cell_type": "code",
   "execution_count": null,
   "metadata": {},
   "outputs": [],
   "source": []
  }
 ],
 "metadata": {
  "kernelspec": {
   "display_name": "Python 3",
   "language": "python",
   "name": "python3"
  },
  "language_info": {
   "codemirror_mode": {
    "name": "ipython",
    "version": 3
   },
   "file_extension": ".py",
   "mimetype": "text/x-python",
   "name": "python",
   "nbconvert_exporter": "python",
   "pygments_lexer": "ipython3",
   "version": "3.7.6"
  }
 },
 "nbformat": 4,
 "nbformat_minor": 4
}
