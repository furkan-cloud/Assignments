{
 "cells": [
  {
   "cell_type": "code",
   "execution_count": 3,
   "metadata": {},
   "outputs": [
    {
     "name": "stdout",
     "output_type": "stream",
     "text": [
      "Please enter your name for learn your password: Furkan\n",
      "Hello, Furkan! The password is: #2&3,\n"
     ]
    }
   ],
   "source": [
    "# Task : Let's say you left a message in the past that prints a password you need. To see the password you wrote, you need to enter your name and the program should recognize you.\n",
    "# Write a program that \n",
    "\n",
    "# Takes the first name from the user and compares it to yours,\n",
    "# Then if the name the user entered is the same as yours, print out such as : \"Hello, Joseph! The password is : W@12\",\n",
    "# If the name the user entered is not the same as yours, print out such as : \"Hello, Amina! See you later.\"\n",
    "\n",
    "#Solution\n",
    "\n",
    "name = input(\"Please enter your name for learn your password: \")\n",
    "\n",
    "if name == \"Furkan\":\n",
    "\n",
    "    print(f\"Hello, {name}! The password is: #2&3,\")\n",
    "\n",
    "else:\n",
    "\n",
    "    print(f\"Hello, {name}! See you later.\")"
   ]
  },
  {
   "cell_type": "code",
   "execution_count": null,
   "metadata": {},
   "outputs": [],
   "source": []
  }
 ],
 "metadata": {
  "kernelspec": {
   "display_name": "Python 3",
   "language": "python",
   "name": "python3"
  },
  "language_info": {
   "codemirror_mode": {
    "name": "ipython",
    "version": 3
   },
   "file_extension": ".py",
   "mimetype": "text/x-python",
   "name": "python",
   "nbconvert_exporter": "python",
   "pygments_lexer": "ipython3",
   "version": "3.7.6"
  }
 },
 "nbformat": 4,
 "nbformat_minor": 4
}
